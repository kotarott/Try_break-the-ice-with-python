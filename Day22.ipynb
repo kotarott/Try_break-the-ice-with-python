{
 "cells": [
  {
   "cell_type": "code",
   "execution_count": 2,
   "metadata": {},
   "outputs": [
    {
     "name": "stdout",
     "output_type": "stream",
     "text": [
      "a,2\n",
      "b,2\n",
      "c,2\n",
      "d,1\n",
      "e,1\n",
      "f,1\n",
      "g,1\n",
      "a,2\n",
      "b,2\n",
      "c,2\n"
     ]
    }
   ],
   "source": [
    "# Q90\n",
    "s = 'abcdefgabc'\n",
    "for letter in s:\n",
    "    n = s.count(letter)\n",
    "    print(f'{letter},{n}')"
   ]
  },
  {
   "cell_type": "code",
   "execution_count": 5,
   "metadata": {},
   "outputs": [
    {
     "data": {
      "text/plain": [
       "'ris etov ot esir'"
      ]
     },
     "execution_count": 5,
     "metadata": {},
     "output_type": "execute_result"
    }
   ],
   "source": [
    "# Q91\n",
    "s = 'rise to vote sir'\n",
    "s = s.split(' ')\n",
    "s.reverse()\n",
    "\n",
    "r_s = []\n",
    "for word in s:\n",
    "    r_word = ''\n",
    "    for i in range(len(word)):\n",
    "        r_word += word[len(word) - (1 + i)]\n",
    "    r_s.append(r_word)\n",
    "' '.join(r_s)"
   ]
  },
  {
   "cell_type": "code",
   "execution_count": 6,
   "metadata": {},
   "outputs": [
    {
     "name": "stdout",
     "output_type": "stream",
     "text": [
      "rise to vote sir\n",
      "ris etov ot esir\n"
     ]
    }
   ],
   "source": [
    "s = input()\n",
    "s = ''.join(reversed(s))\n",
    "print(s)"
   ]
  },
  {
   "cell_type": "code",
   "execution_count": 7,
   "metadata": {},
   "outputs": [
    {
     "name": "stdout",
     "output_type": "stream",
     "text": [
      "H1e2l3l4o5w6o7r8l9d\n",
      "Helloworld\n"
     ]
    }
   ],
   "source": [
    "# Q92\n",
    "s = input()\n",
    "print(s[::2])"
   ]
  },
  {
   "cell_type": "code",
   "execution_count": 11,
   "metadata": {},
   "outputs": [
    {
     "name": "stdout",
     "output_type": "stream",
     "text": [
      "[(1, 2, 3), (1, 3, 2), (2, 1, 3), (2, 3, 1), (3, 1, 2), (3, 2, 1)]\n"
     ]
    }
   ],
   "source": [
    "# Q93 △\n",
    "import itertools\n",
    "print(list(itertools.permutations([1, 2, 3])))"
   ]
  },
  {
   "cell_type": "code",
   "execution_count": 13,
   "metadata": {},
   "outputs": [
    {
     "name": "stdout",
     "output_type": "stream",
     "text": [
      "[(2, 2, 2, 2, 2, 2, 2, 2, 2, 2, 2, 2, 2, 2, 2, 2, 2, 2, 2, 2, 2, 2, 2, 4, 4, 4, 4, 4, 4, 4, 4, 4, 4, 4, 4)]\n",
      "Number of chickens is 23\n",
      "Number of rabbits is 12\n"
     ]
    }
   ],
   "source": [
    "# Q94 ×\n",
    "import itertools\n",
    "\n",
    "def animal_counter(lst):\n",
    "    chickens = 0\n",
    "    rabbits = 0\n",
    "    for i in lst:\n",
    "        if i == 2:\n",
    "            chickens += 1\n",
    "        elif i == 4:\n",
    "            rabbits += 1\n",
    "    print(f'Number of chickens is {chickens}\\nNumber of rabbits is {rabbits}')\n",
    "\n",
    "def animal_calculator(total_legs, total_heads, legs_of_each_species):\n",
    "    combinations = itertools.combinations_with_replacement(legs_of_each_species, total_heads)\n",
    "    correct_combos = []\n",
    "    for i in list(combinations):\n",
    "        if sum(i) == total_legs:\n",
    "            correct_combos.append(i)\n",
    "    print(correct_combos)\n",
    "    for i in correct_combos:\n",
    "        animal_counter(i)\n",
    "\n",
    "animal_calculator(94, 35, legs_of_each_species=[2, 4])"
   ]
  },
  {
   "cell_type": "code",
   "execution_count": null,
   "metadata": {},
   "outputs": [],
   "source": []
  }
 ],
 "metadata": {
  "kernelspec": {
   "display_name": "Python 3",
   "language": "python",
   "name": "python3"
  },
  "language_info": {
   "codemirror_mode": {
    "name": "ipython",
    "version": 3
   },
   "file_extension": ".py",
   "mimetype": "text/x-python",
   "name": "python",
   "nbconvert_exporter": "python",
   "pygments_lexer": "ipython3",
   "version": "3.8.5"
  }
 },
 "nbformat": 4,
 "nbformat_minor": 4
}
