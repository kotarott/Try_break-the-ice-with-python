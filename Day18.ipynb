{
 "cells": [
  {
   "cell_type": "code",
   "execution_count": 1,
   "metadata": {},
   "outputs": [
    {
     "name": "stdout",
     "output_type": "stream",
     "text": [
      "6\n"
     ]
    }
   ],
   "source": [
    "# Q70\n",
    "import random\n",
    "lst = [x for x in range(0, 11) if x%2==0]\n",
    "print(random.choice(lst))"
   ]
  },
  {
   "cell_type": "code",
   "execution_count": 4,
   "metadata": {},
   "outputs": [
    {
     "name": "stdout",
     "output_type": "stream",
     "text": [
      "70\n"
     ]
    }
   ],
   "source": [
    "# Q71\n",
    "import random\n",
    "lst = [x for x in range(10, 151) if x%5==0 and x%7==0]\n",
    "print(random.choice(lst))"
   ]
  },
  {
   "cell_type": "code",
   "execution_count": 5,
   "metadata": {},
   "outputs": [
    {
     "name": "stdout",
     "output_type": "stream",
     "text": [
      "[199, 146, 194, 190, 106]\n"
     ]
    }
   ],
   "source": [
    "# Q72\n",
    "import random \n",
    "lst = [x for x in range(100, 201)]\n",
    "print(random.sample(lst, 5))"
   ]
  },
  {
   "cell_type": "code",
   "execution_count": 6,
   "metadata": {},
   "outputs": [
    {
     "name": "stdout",
     "output_type": "stream",
     "text": [
      "[162, 108, 164, 142, 114]\n"
     ]
    }
   ],
   "source": [
    "# Q73\n",
    "import random\n",
    "lst = [x for x in range(100, 200) if x%2==0]\n",
    "print(random.sample(lst, 5))"
   ]
  },
  {
   "cell_type": "code",
   "execution_count": 7,
   "metadata": {},
   "outputs": [
    {
     "name": "stdout",
     "output_type": "stream",
     "text": [
      "[700, 175, 980, 805, 105]\n"
     ]
    }
   ],
   "source": [
    "# Q74\n",
    "import random\n",
    "lst = [x for x in range(1, 1001) if x%5==0 and x%7==0]\n",
    "print(random.sample(lst, 5))"
   ]
  },
  {
   "cell_type": "code",
   "execution_count": null,
   "metadata": {},
   "outputs": [],
   "source": [
    "# ここまで3時間30分"
   ]
  }
 ],
 "metadata": {
  "kernelspec": {
   "display_name": "Python 3",
   "language": "python",
   "name": "python3"
  },
  "language_info": {
   "codemirror_mode": {
    "name": "ipython",
    "version": 3
   },
   "file_extension": ".py",
   "mimetype": "text/x-python",
   "name": "python",
   "nbconvert_exporter": "python",
   "pygments_lexer": "ipython3",
   "version": "3.8.5"
  }
 },
 "nbformat": 4,
 "nbformat_minor": 4
}
