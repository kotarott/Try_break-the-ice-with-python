{
 "cells": [
  {
   "cell_type": "code",
   "execution_count": 3,
   "metadata": {},
   "outputs": [],
   "source": [
    "# Q16\n",
    "def func16(values):\n",
    "    values = values.split(',')\n",
    "    results = []\n",
    "    for n in values:\n",
    "        n = int(n)\n",
    "        if n % 2 != 0:\n",
    "            results.append(str(n ** 2))\n",
    "    return ','.join(results)"
   ]
  },
  {
   "cell_type": "code",
   "execution_count": 4,
   "metadata": {},
   "outputs": [
    {
     "name": "stdout",
     "output_type": "stream",
     "text": [
      "1,2,3,4,5,6,7,8,9\n"
     ]
    },
    {
     "data": {
      "text/plain": [
       "'1,9,25,49,81'"
      ]
     },
     "execution_count": 4,
     "metadata": {},
     "output_type": "execute_result"
    }
   ],
   "source": [
    "values = input()\n",
    "func16(values)"
   ]
  },
  {
   "cell_type": "code",
   "execution_count": 21,
   "metadata": {},
   "outputs": [],
   "source": [
    "# Q17\n",
    "class Account:\n",
    "    def __init__(self):\n",
    "        self.amount = 0\n",
    "        self.values = []\n",
    "    \n",
    "    def input_transaction(self):\n",
    "        while True:\n",
    "            input_value = input()\n",
    "            if len(input_value) != 0:\n",
    "                input_value = input_value.split(' ')\n",
    "                self.values.append({'type': str(input_value[0]),\n",
    "                                    'amount': int(input_value[1])})\n",
    "            else:\n",
    "                break\n",
    "                \n",
    "    def calc_amount(self):\n",
    "        for value in self.values:\n",
    "            if value['type'] == 'D':\n",
    "                self.amount += value['amount']\n",
    "            elif value['type'] == 'W':\n",
    "                self.amount -= value['amount']\n",
    "        return self.amount"
   ]
  },
  {
   "cell_type": "code",
   "execution_count": 22,
   "metadata": {},
   "outputs": [
    {
     "name": "stdout",
     "output_type": "stream",
     "text": [
      "\n"
     ]
    },
    {
     "data": {
      "text/plain": [
       "0"
      ]
     },
     "execution_count": 22,
     "metadata": {},
     "output_type": "execute_result"
    }
   ],
   "source": [
    "bank = Account()\n",
    "bank.input_transaction()\n",
    "bank.calc_amount()"
   ]
  },
  {
   "cell_type": "code",
   "execution_count": 1,
   "metadata": {},
   "outputs": [],
   "source": [
    "# ここまで90分"
   ]
  }
 ],
 "metadata": {
  "kernelspec": {
   "display_name": "Python 3",
   "language": "python",
   "name": "python3"
  },
  "language_info": {
   "codemirror_mode": {
    "name": "ipython",
    "version": 3
   },
   "file_extension": ".py",
   "mimetype": "text/x-python",
   "name": "python",
   "nbconvert_exporter": "python",
   "pygments_lexer": "ipython3",
   "version": "3.8.5"
  }
 },
 "nbformat": 4,
 "nbformat_minor": 4
}
