{
 "cells": [
  {
   "cell_type": "code",
   "execution_count": 1,
   "metadata": {},
   "outputs": [
    {
     "name": "stdout",
     "output_type": "stream",
     "text": [
      "5\n",
      "2 3 6 6 5\n",
      "5\n"
     ]
    }
   ],
   "source": [
    "# Q95 ×\n",
    "n = int(input())\n",
    "arr = map(int, input().split())\n",
    "arr = list(set(arr))\n",
    "arr.sort()\n",
    "print(arr[-2])"
   ]
  },
  {
   "cell_type": "code",
   "execution_count": 7,
   "metadata": {},
   "outputs": [
    {
     "name": "stdout",
     "output_type": "stream",
     "text": [
      "ABCDEFGHIJKLIMNOQRSTUVWXYZ\n",
      "4\n",
      "ABCD\n",
      "EFGH\n",
      "IJKL\n",
      "IMNO\n",
      "QRST\n",
      "UVWX\n",
      "YZ\n"
     ]
    }
   ],
   "source": [
    "s = input()\n",
    "n = int(input())\n",
    "\n",
    "num = len(s) // n\n",
    "nokori = len(s) % n\n",
    "\n",
    "i = 0\n",
    "for _ in range(num):\n",
    "    print(s[i:n*(_+1)])\n",
    "    i += n\n",
    "if nokori != 0:\n",
    "    print(s[-1*nokori:])"
   ]
  },
  {
   "cell_type": "code",
   "execution_count": 45,
   "metadata": {},
   "outputs": [
    {
     "name": "stdout",
     "output_type": "stream",
     "text": [
      "ABCDEFGHIJKLIMNOQRSTUVWXYZ\n",
      "3\n",
      "----A----\n",
      "--B-A-B--\n",
      "C-B-A-B-C\n",
      "--B-A-B--\n",
      "----A----\n"
     ]
    }
   ],
   "source": [
    "# Q97\n",
    "s = input()\n",
    "num = int(input())\n",
    "\n",
    "if len(s) < num:\n",
    "    print('your string is too short!!')\n",
    "\n",
    "l3 = []\n",
    "for n in range(1, num+1):\n",
    "    l1 = []\n",
    "    l2 = []\n",
    "    count_num = 0\n",
    "    for i in range(num*2-1):\n",
    "        if count_num < n:\n",
    "            l1.append(s[count_num])\n",
    "            count_num += 1\n",
    "        if len(l1) == num*2-1:\n",
    "            break\n",
    "        l1.append('-')\n",
    "        \n",
    "    l1.reverse()\n",
    "    l2 += l1[:-1]\n",
    "    l1.reverse()\n",
    "    l2 += l1\n",
    "    l3.append(l2)\n",
    "l4 = []\n",
    "l4 += l3\n",
    "l4\n",
    "l3.reverse()\n",
    "l4 += l3[1:]\n",
    "l4\n",
    "\n",
    "for n in range(len(l4)):\n",
    "    print(''.join(l4[n]))"
   ]
  },
  {
   "cell_type": "code",
   "execution_count": 47,
   "metadata": {},
   "outputs": [
    {
     "name": "stdout",
     "output_type": "stream",
     "text": [
      "03 24 2022\n",
      "THURSDAY\n"
     ]
    }
   ],
   "source": [
    "# Q98 ×\n",
    "import calendar\n",
    "month, day, year = map(int, input().split(' '))\n",
    "dayId = calendar.weekday(year, month, day)\n",
    "print(calendar.day_name[dayId].upper())"
   ]
  },
  {
   "cell_type": "code",
   "execution_count": 1,
   "metadata": {},
   "outputs": [],
   "source": [
    "# ここまで5時間15分"
   ]
  },
  {
   "cell_type": "code",
   "execution_count": 13,
   "metadata": {},
   "outputs": [
    {
     "name": "stdout",
     "output_type": "stream",
     "text": [
      "2 4 5 9\n",
      "2 4 11 12\n",
      "5\n",
      "9\n",
      "11\n",
      "12\n"
     ]
    }
   ],
   "source": [
    "# Q99\n",
    "n = input()\n",
    "n = set(map(int, n.split(' ')))\n",
    "\n",
    "m = input()\n",
    "m = set(map(int, m.split(' ')))\n",
    "\n",
    "l = n ^ m\n",
    "l = sorted(l)\n",
    "for i in l:\n",
    "    print(i)"
   ]
  },
  {
   "cell_type": "code",
   "execution_count": null,
   "metadata": {},
   "outputs": [],
   "source": []
  }
 ],
 "metadata": {
  "kernelspec": {
   "display_name": "Python 3",
   "language": "python",
   "name": "python3"
  },
  "language_info": {
   "codemirror_mode": {
    "name": "ipython",
    "version": 3
   },
   "file_extension": ".py",
   "mimetype": "text/x-python",
   "name": "python",
   "nbconvert_exporter": "python",
   "pygments_lexer": "ipython3",
   "version": "3.8.5"
  }
 },
 "nbformat": 4,
 "nbformat_minor": 4
}
