{
 "cells": [
  {
   "cell_type": "code",
   "execution_count": 3,
   "metadata": {},
   "outputs": [
    {
     "name": "stdout",
     "output_type": "stream",
     "text": [
      "4\n",
      "bcdef\n",
      "fg;ak@\n",
      "dfam\n",
      "bcdef\n",
      "3\n",
      "2 1 1 "
     ]
    }
   ],
   "source": [
    "# Q100\n",
    "n = int(input())\n",
    "\n",
    "word_dict = {}\n",
    "\n",
    "for i in range(n):\n",
    "    word = input()\n",
    "    if word not in word_dict:\n",
    "        word_dict[word] = 1\n",
    "    else:\n",
    "        word_dict[word] += 1\n",
    "\n",
    "print(len(word_dict))\n",
    "for value in word_dict.values():\n",
    "    print(value, end=' ')"
   ]
  },
  {
   "cell_type": "code",
   "execution_count": 9,
   "metadata": {},
   "outputs": [
    {
     "name": "stdout",
     "output_type": "stream",
     "text": [
      "aabbcccde\n",
      "c 3\n",
      "a 2\n",
      "b 2\n",
      "d 1\n",
      "e 1\n"
     ]
    }
   ],
   "source": [
    "# Q101\n",
    "s = input()\n",
    "words = {}\n",
    "\n",
    "for letter in s:\n",
    "    if letter not in words:\n",
    "        words[letter] = 1\n",
    "    else:\n",
    "        words[letter] += 1\n",
    "\n",
    "words = sorted(words.items(), key= lambda x : x[1], reverse=True)\n",
    "for item in words:\n",
    "    print(item[0], item[1])\n"
   ]
  },
  {
   "cell_type": "code",
   "execution_count": 12,
   "metadata": {},
   "outputs": [
    {
     "name": "stdout",
     "output_type": "stream",
     "text": [
      "Hello321Bye360\n",
      "digits - 6\n",
      "letters - 8\n"
     ]
    }
   ],
   "source": [
    "# Q102\n",
    "s = input()\n",
    "digits = 0\n",
    "letters = 0\n",
    "\n",
    "for word in s:\n",
    "    if word.isdigit():\n",
    "        digits += 1\n",
    "    elif word.isalpha():\n",
    "        letters += 1\n",
    "print(f'digits - {digits}\\nletters - {letters}')"
   ]
  },
  {
   "cell_type": "code",
   "execution_count": 13,
   "metadata": {},
   "outputs": [
    {
     "name": "stdout",
     "output_type": "stream",
     "text": [
      "5\n",
      "15\n"
     ]
    }
   ],
   "source": [
    "# Q103\n",
    "n = int(input())\n",
    "\n",
    "result = 0\n",
    "for _ in range(1, n+1):\n",
    "    result += _\n",
    "\n",
    "print(result)"
   ]
  },
  {
   "cell_type": "code",
   "execution_count": null,
   "metadata": {},
   "outputs": [],
   "source": []
  }
 ],
 "metadata": {
  "kernelspec": {
   "display_name": "Python 3",
   "language": "python",
   "name": "python3"
  },
  "language_info": {
   "codemirror_mode": {
    "name": "ipython",
    "version": 3
   },
   "file_extension": ".py",
   "mimetype": "text/x-python",
   "name": "python",
   "nbconvert_exporter": "python",
   "pygments_lexer": "ipython3",
   "version": "3.8.5"
  }
 },
 "nbformat": 4,
 "nbformat_minor": 4
}
