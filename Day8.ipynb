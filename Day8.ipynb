{
 "cells": [
  {
   "cell_type": "code",
   "execution_count": 21,
   "metadata": {},
   "outputs": [],
   "source": [
    "# Q22\n",
    "def func22(words):\n",
    "    words = words.split(' ')\n",
    "    des = {}\n",
    "    for word in words:\n",
    "        if not word in des:\n",
    "            des[word] = 1\n",
    "        else:\n",
    "            des[word] += 1\n",
    "    results = sorted(des)\n",
    "    for result in results:\n",
    "        print(result, ':', des[result])"
   ]
  },
  {
   "cell_type": "code",
   "execution_count": 22,
   "metadata": {},
   "outputs": [
    {
     "name": "stdout",
     "output_type": "stream",
     "text": [
      "New to Python or choosing between Python 2 and Python 3? Read Python 2 or Python 3.\n",
      "2 : 2\n",
      "3. : 1\n",
      "3? : 1\n",
      "New : 1\n",
      "Python : 5\n",
      "Read : 1\n",
      "and : 1\n",
      "between : 1\n",
      "choosing : 1\n",
      "or : 2\n",
      "to : 1\n"
     ]
    }
   ],
   "source": [
    "words = input()\n",
    "func22(words)"
   ]
  },
  {
   "cell_type": "code",
   "execution_count": 25,
   "metadata": {},
   "outputs": [],
   "source": [
    "# Q23\n",
    "def func23(value):\n",
    "    return value ** 2"
   ]
  },
  {
   "cell_type": "code",
   "execution_count": 26,
   "metadata": {},
   "outputs": [
    {
     "name": "stdout",
     "output_type": "stream",
     "text": [
      "4\n"
     ]
    }
   ],
   "source": [
    "print(func23(2))"
   ]
  },
  {
   "cell_type": "code",
   "execution_count": 30,
   "metadata": {},
   "outputs": [
    {
     "name": "stdout",
     "output_type": "stream",
     "text": [
      "\n",
      "    param num: This is any integer number\n",
      "    return: square value of num\n",
      "    \n"
     ]
    }
   ],
   "source": [
    "# Q24 知らなかった！！\n",
    "# print(str.__doc__)\n",
    "# print(sorted.__doc__)\n",
    "\n",
    "def func24(num):\n",
    "    '''\n",
    "    param num: This is any integer number\n",
    "    return: square value of num\n",
    "    '''\n",
    "    return num ** 2\n",
    "\n",
    "print(func24.__doc__)"
   ]
  },
  {
   "cell_type": "code",
   "execution_count": 37,
   "metadata": {},
   "outputs": [],
   "source": [
    "# Q25\n",
    "class Func25:\n",
    "    param = 'This is a Class Param.'\n",
    "    \n",
    "    def __init__(self):\n",
    "        self.param = 'This is an Insance Param.'"
   ]
  },
  {
   "cell_type": "code",
   "execution_count": 38,
   "metadata": {},
   "outputs": [
    {
     "name": "stdout",
     "output_type": "stream",
     "text": [
      "This is a Class Param.\n",
      "This is an Insance Param.\n"
     ]
    }
   ],
   "source": [
    "func25 = Func25()\n",
    "print(Func25.param)\n",
    "print(func25.param)"
   ]
  },
  {
   "cell_type": "code",
   "execution_count": null,
   "metadata": {},
   "outputs": [],
   "source": [
    "# ここまで計2時間"
   ]
  }
 ],
 "metadata": {
  "kernelspec": {
   "display_name": "Python 3",
   "language": "python",
   "name": "python3"
  },
  "language_info": {
   "codemirror_mode": {
    "name": "ipython",
    "version": 3
   },
   "file_extension": ".py",
   "mimetype": "text/x-python",
   "name": "python",
   "nbconvert_exporter": "python",
   "pygments_lexer": "ipython3",
   "version": "3.8.5"
  }
 },
 "nbformat": 4,
 "nbformat_minor": 4
}
