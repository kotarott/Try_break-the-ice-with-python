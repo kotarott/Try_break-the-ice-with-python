{
 "cells": [
  {
   "cell_type": "code",
   "execution_count": 34,
   "metadata": {},
   "outputs": [],
   "source": [
    "# Q18\n",
    "import re\n",
    "def func18(values):\n",
    "    values = values.split(',')\n",
    "    confirmed = []\n",
    "    for value in values:\n",
    "        if len(value) < 6 or len(value) > 12:\n",
    "            continue\n",
    "        else:\n",
    "            pass\n",
    "        if not re.search('[a-z]', value):\n",
    "            continue\n",
    "        elif not re.search('[0-9]', value):\n",
    "            continue\n",
    "        elif not re.search('[A-Z]', value):\n",
    "            continue\n",
    "        elif not re.search('[$#@]', value):\n",
    "            continue\n",
    "        else:\n",
    "            pass\n",
    "        confirmed.append(str(value))\n",
    "    return ','.join(confirmed)"
   ]
  },
  {
   "cell_type": "code",
   "execution_count": 35,
   "metadata": {},
   "outputs": [
    {
     "name": "stdout",
     "output_type": "stream",
     "text": [
      "ABd1234@1,a F1#,2w3E*,2We3345\n"
     ]
    },
    {
     "data": {
      "text/plain": [
       "'ABd1234@1'"
      ]
     },
     "execution_count": 35,
     "metadata": {},
     "output_type": "execute_result"
    }
   ],
   "source": [
    "values = input()\n",
    "func18(values)"
   ]
  },
  {
   "cell_type": "code",
   "execution_count": 38,
   "metadata": {},
   "outputs": [],
   "source": [
    "# Q19\n",
    "class Func19:\n",
    "    def __init__(self):\n",
    "        self.values = []\n",
    "        self.sorted = []\n",
    "    \n",
    "    def get_values(self):\n",
    "        while True:\n",
    "            value = input()\n",
    "            if not value:\n",
    "                break\n",
    "            value = value.split(',')\n",
    "            self.values.append(tuple(value))\n",
    "    \n",
    "    def sort_values(self):\n",
    "        self.sorted = sorted(\n",
    "            self.values,\n",
    "            key=lambda x:(x[0], x[1], x[2])\n",
    "        )\n",
    "        return self.sorted"
   ]
  },
  {
   "cell_type": "code",
   "execution_count": 40,
   "metadata": {},
   "outputs": [
    {
     "name": "stdout",
     "output_type": "stream",
     "text": [
      "Tom,19,80\n",
      "John,20,90\n",
      "Jony,17,91\n",
      "Jony,17,93\n",
      "Json,21,85\n",
      "\n"
     ]
    },
    {
     "data": {
      "text/plain": [
       "[('John', '20', '90'),\n",
       " ('Jony', '17', '91'),\n",
       " ('Jony', '17', '93'),\n",
       " ('Json', '21', '85'),\n",
       " ('Tom', '19', '80')]"
      ]
     },
     "execution_count": 40,
     "metadata": {},
     "output_type": "execute_result"
    }
   ],
   "source": [
    "func19 = Func19()\n",
    "func19.get_values()\n",
    "func19.sort_values()"
   ]
  },
  {
   "cell_type": "code",
   "execution_count": null,
   "metadata": {},
   "outputs": [],
   "source": []
  }
 ],
 "metadata": {
  "kernelspec": {
   "display_name": "Python 3",
   "language": "python",
   "name": "python3"
  },
  "language_info": {
   "codemirror_mode": {
    "name": "ipython",
    "version": 3
   },
   "file_extension": ".py",
   "mimetype": "text/x-python",
   "name": "python",
   "nbconvert_exporter": "python",
   "pygments_lexer": "ipython3",
   "version": "3.8.5"
  }
 },
 "nbformat": 4,
 "nbformat_minor": 4
}
