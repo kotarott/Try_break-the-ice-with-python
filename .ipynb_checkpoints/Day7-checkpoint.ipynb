{
 "cells": [
  {
   "cell_type": "code",
   "execution_count": 1,
   "metadata": {},
   "outputs": [],
   "source": [
    "# Q20\n",
    "class Func20:\n",
    "    def __init__(self):\n",
    "        self.dvd_num = None\n",
    "    \n",
    "    def set_dvd_num(self, num):\n",
    "        self.dvd_num = num\n",
    "    \n",
    "    def get_divisible(self, num):\n",
    "        for n in range(0, num + 1):\n",
    "            if n % self.dvd_num == 0:\n",
    "                print(n)"
   ]
  },
  {
   "cell_type": "code",
   "execution_count": 2,
   "metadata": {},
   "outputs": [
    {
     "name": "stdout",
     "output_type": "stream",
     "text": [
      "0\n",
      "7\n",
      "14\n"
     ]
    }
   ],
   "source": [
    "func20 = Func20()\n",
    "func20.set_dvd_num(7)\n",
    "func20.get_divisible(20)"
   ]
  },
  {
   "cell_type": "code",
   "execution_count": 9,
   "metadata": {},
   "outputs": [],
   "source": [
    "# Q21\n",
    "import math\n",
    "class Func21:\n",
    "    def __init__(self):\n",
    "        self.command = ['UP', 'DOWN', 'LEFT', 'RIGHT']\n",
    "        self.input_values = []\n",
    "    \n",
    "    def get_input(self):\n",
    "        while True:\n",
    "            value = input()\n",
    "            if not value:\n",
    "                break\n",
    "            else:\n",
    "                value = value.split(' ')\n",
    "                if not value[0] in self.command:\n",
    "                    print('Wrong input!')\n",
    "                else:\n",
    "                    self.input_values.append({\n",
    "                        'type': value[0],\n",
    "                        'amount': value[1]\n",
    "                    })\n",
    "    \n",
    "    def calc_distance(self):\n",
    "        position = [0, 0]\n",
    "        for value in self.input_values:\n",
    "            if value['type'] == 'UP':\n",
    "                position[1] += int(value['amount'])\n",
    "            if value['type'] == 'DOWN':\n",
    "                position[1] -= int(value['amount'])\n",
    "            if value['type'] == 'RIGHT':\n",
    "                position[0] += int(value['amount'])\n",
    "            if value['type'] == 'LEFT':\n",
    "                position[0] -= int(value['amount'])\n",
    "        distance = int(math.sqrt(position[0]**2 + position[1]**2))\n",
    "        return distance"
   ]
  },
  {
   "cell_type": "code",
   "execution_count": 10,
   "metadata": {},
   "outputs": [
    {
     "name": "stdout",
     "output_type": "stream",
     "text": [
      "UP 5\n",
      "DOWN 3\n",
      "LEFT 3\n",
      "RIGHT 2\n",
      "\n"
     ]
    },
    {
     "data": {
      "text/plain": [
       "2"
      ]
     },
     "execution_count": 10,
     "metadata": {},
     "output_type": "execute_result"
    }
   ],
   "source": [
    "func21 = Func21()\n",
    "func21.get_input()\n",
    "func21.calc_distance()"
   ]
  },
  {
   "cell_type": "code",
   "execution_count": null,
   "metadata": {},
   "outputs": [],
   "source": []
  },
  {
   "cell_type": "code",
   "execution_count": null,
   "metadata": {},
   "outputs": [],
   "source": []
  }
 ],
 "metadata": {
  "kernelspec": {
   "display_name": "Python 3",
   "language": "python",
   "name": "python3"
  },
  "language_info": {
   "codemirror_mode": {
    "name": "ipython",
    "version": 3
   },
   "file_extension": ".py",
   "mimetype": "text/x-python",
   "name": "python",
   "nbconvert_exporter": "python",
   "pygments_lexer": "ipython3",
   "version": "3.8.5"
  }
 },
 "nbformat": 4,
 "nbformat_minor": 4
}
