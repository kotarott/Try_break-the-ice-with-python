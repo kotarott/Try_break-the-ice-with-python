{
 "cells": [
  {
   "cell_type": "code",
   "execution_count": 2,
   "metadata": {},
   "outputs": [
    {
     "data": {
      "text/plain": [
       "[24, 35, 70, 155]"
      ]
     },
     "execution_count": 2,
     "metadata": {},
     "output_type": "execute_result"
    }
   ],
   "source": [
    "# Q85\n",
    "li = [12,24,35,70,88,120,155]\n",
    "indices = [0, 4, 5]\n",
    "li = [li[x] for x in range(len(li)) if not x in indices]\n",
    "li"
   ]
  },
  {
   "cell_type": "code",
   "execution_count": 3,
   "metadata": {},
   "outputs": [
    {
     "data": {
      "text/plain": [
       "[12, 35, 88, 120, 155]"
      ]
     },
     "execution_count": 3,
     "metadata": {},
     "output_type": "execute_result"
    }
   ],
   "source": [
    "# Q86\n",
    "li = [12,24,35,24,88,120,155]\n",
    "li = [x for x in li if x != 24]\n",
    "li"
   ]
  },
  {
   "cell_type": "code",
   "execution_count": 4,
   "metadata": {},
   "outputs": [
    {
     "data": {
      "text/plain": [
       "[35]"
      ]
     },
     "execution_count": 4,
     "metadata": {},
     "output_type": "execute_result"
    }
   ],
   "source": [
    "# Q87\n",
    "li1 = [1,3,6,78,35,55]\n",
    "li2 = [12,24,35,24,88,120,155]\n",
    "li = [x for x in li1 if x in li2]\n",
    "li"
   ]
  },
  {
   "cell_type": "code",
   "execution_count": 5,
   "metadata": {},
   "outputs": [
    {
     "name": "stdout",
     "output_type": "stream",
     "text": [
      "{35}\n"
     ]
    }
   ],
   "source": [
    "list1 = [1,3,6,78,35,55]\n",
    "list2 = [12,24,35,24,88,120,155]\n",
    "set1= set(list1)\n",
    "set2= set(list2)\n",
    "intersection = set1 & set2\n",
    "print(intersection)"
   ]
  },
  {
   "cell_type": "code",
   "execution_count": 9,
   "metadata": {},
   "outputs": [
    {
     "data": {
      "text/plain": [
       "[12, 35, 24, 88, 120, 155]"
      ]
     },
     "execution_count": 9,
     "metadata": {},
     "output_type": "execute_result"
    }
   ],
   "source": [
    "# Q88 △\n",
    "li = [12,24,35,24,88,120,155,88,120,155]\n",
    "for x in li:\n",
    "    if li.count(x) > 1:\n",
    "        li.remove(x)\n",
    "li"
   ]
  },
  {
   "cell_type": "code",
   "execution_count": 11,
   "metadata": {},
   "outputs": [
    {
     "name": "stdout",
     "output_type": "stream",
     "text": [
      "\n",
      "Male\n"
     ]
    }
   ],
   "source": [
    "# Q89\n",
    "class Person:\n",
    "    def getGender(self):\n",
    "        return ''\n",
    "\n",
    "class Male(Person):\n",
    "    def getGender(self):\n",
    "        return 'Male'\n",
    "\n",
    "class Female(Person):\n",
    "    def getGender(self):\n",
    "        return 'Female'\n",
    "\n",
    "kotaro = Person()\n",
    "print(kotaro.getGender())\n",
    "kotaro = Male()\n",
    "print(kotaro.getGender())"
   ]
  },
  {
   "cell_type": "code",
   "execution_count": null,
   "metadata": {},
   "outputs": [],
   "source": [
    "# ここまで3時間55分"
   ]
  }
 ],
 "metadata": {
  "kernelspec": {
   "display_name": "Python 3",
   "language": "python",
   "name": "python3"
  },
  "language_info": {
   "codemirror_mode": {
    "name": "ipython",
    "version": 3
   },
   "file_extension": ".py",
   "mimetype": "text/x-python",
   "name": "python",
   "nbconvert_exporter": "python",
   "pygments_lexer": "ipython3",
   "version": "3.8.5"
  }
 },
 "nbformat": 4,
 "nbformat_minor": 4
}
