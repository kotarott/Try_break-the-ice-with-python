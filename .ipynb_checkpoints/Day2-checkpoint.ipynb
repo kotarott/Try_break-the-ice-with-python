{
 "cells": [
  {
   "cell_type": "code",
   "execution_count": 6,
   "metadata": {},
   "outputs": [],
   "source": [
    "# Q4\n",
    "def fanc4(n):\n",
    "    list4 = n.split(',')\n",
    "    print(list4)\n",
    "    print(tuple(list4))"
   ]
  },
  {
   "cell_type": "code",
   "execution_count": 7,
   "metadata": {},
   "outputs": [
    {
     "name": "stdout",
     "output_type": "stream",
     "text": [
      "34,67,55,33,12,98\n",
      "['34', '67', '55', '33', '12', '98']\n",
      "('34', '67', '55', '33', '12', '98')\n"
     ]
    }
   ],
   "source": [
    "n = input()\n",
    "fanc4(n)"
   ]
  },
  {
   "cell_type": "code",
   "execution_count": 15,
   "metadata": {},
   "outputs": [],
   "source": [
    "# Q5\n",
    "class Question5:\n",
    "    def __init__(self):\n",
    "        self.value = ''\n",
    "    \n",
    "    def getString(self):\n",
    "        self.value = input()\n",
    "\n",
    "    def printString(self):\n",
    "        print(self.value.upper())\n",
    "    \n",
    "    def test_func5(self):\n",
    "        self.getString()\n",
    "        self.printString()"
   ]
  },
  {
   "cell_type": "code",
   "execution_count": 16,
   "metadata": {},
   "outputs": [
    {
     "name": "stdout",
     "output_type": "stream",
     "text": [
      "kotaro\n",
      "KOTARO\n"
     ]
    }
   ],
   "source": [
    "question5 = Question5()\n",
    "question5.test_func5()"
   ]
  },
  {
   "cell_type": "code",
   "execution_count": 28,
   "metadata": {},
   "outputs": [],
   "source": [
    "# Q6\n",
    "import math\n",
    "\n",
    "def fanc6(values):\n",
    "    results = []\n",
    "    values = values.split(',')\n",
    "    for value in values:\n",
    "        result = (2 * 50 * float(value)) / 30\n",
    "        result = int(round(math.sqrt(result), 0))\n",
    "        results.append(str(result))\n",
    "    return ','.join(results)"
   ]
  },
  {
   "cell_type": "code",
   "execution_count": 29,
   "metadata": {},
   "outputs": [
    {
     "name": "stdout",
     "output_type": "stream",
     "text": [
      "100,150,180\n"
     ]
    },
    {
     "data": {
      "text/plain": [
       "'18,22,24'"
      ]
     },
     "execution_count": 29,
     "metadata": {},
     "output_type": "execute_result"
    }
   ],
   "source": [
    "values = input()\n",
    "fanc6(values)"
   ]
  },
  {
   "cell_type": "code",
   "execution_count": 42,
   "metadata": {},
   "outputs": [],
   "source": [
    "# Q7\n",
    "def func7(x, y):\n",
    "    results = []\n",
    "    for i in range(x):\n",
    "        result = []\n",
    "        for j in range(y):\n",
    "            result.append(i * j)\n",
    "        results.append(result)\n",
    "    return results"
   ]
  },
  {
   "cell_type": "code",
   "execution_count": 43,
   "metadata": {},
   "outputs": [
    {
     "name": "stdout",
     "output_type": "stream",
     "text": [
      "3,5\n"
     ]
    },
    {
     "data": {
      "text/plain": [
       "[[0, 0, 0, 0, 0], [0, 1, 2, 3, 4], [0, 2, 4, 6, 8]]"
      ]
     },
     "execution_count": 43,
     "metadata": {},
     "output_type": "execute_result"
    }
   ],
   "source": [
    "values = input().split(',')\n",
    "# x,y = map(int,input().split(','))\n",
    "func7(int(values[0]), int(values[1]))"
   ]
  },
  {
   "cell_type": "code",
   "execution_count": 52,
   "metadata": {},
   "outputs": [],
   "source": [
    "# Q8\n",
    "def func8(words):\n",
    "    words = words.split(',')\n",
    "    words.sort()\n",
    "    print(words)\n",
    "    return ','.join(words)"
   ]
  },
  {
   "cell_type": "code",
   "execution_count": 53,
   "metadata": {},
   "outputs": [
    {
     "name": "stdout",
     "output_type": "stream",
     "text": [
      "without,hello,bag,world\n",
      "['bag', 'hello', 'without', 'world']\n"
     ]
    },
    {
     "data": {
      "text/plain": [
       "'bag,hello,without,world'"
      ]
     },
     "execution_count": 53,
     "metadata": {},
     "output_type": "execute_result"
    }
   ],
   "source": [
    "words = input()\n",
    "func8(words)"
   ]
  },
  {
   "cell_type": "code",
   "execution_count": 65,
   "metadata": {},
   "outputs": [],
   "source": [
    "# Q9\n",
    "def func9(words):\n",
    "    words = words.upper()\n",
    "    print(words)"
   ]
  },
  {
   "cell_type": "code",
   "execution_count": 67,
   "metadata": {},
   "outputs": [
    {
     "name": "stdout",
     "output_type": "stream",
     "text": [
      "Hello world\n",
      "Practice makes perfect\n",
      "\n",
      "HELLO WORLD\n",
      "PRACTICE MAKES PERFECT\n",
      "\n"
     ]
    }
   ],
   "source": [
    "wordlist = []\n",
    "while True:\n",
    "    words = input()\n",
    "    wordlist.append(words)\n",
    "    if len(words) == 0:\n",
    "        break\n",
    "\n",
    "for item in wordlist:\n",
    "    func9(item)"
   ]
  },
  {
   "cell_type": "code",
   "execution_count": null,
   "metadata": {},
   "outputs": [],
   "source": []
  }
 ],
 "metadata": {
  "kernelspec": {
   "display_name": "Python 3",
   "language": "python",
   "name": "python3"
  },
  "language_info": {
   "codemirror_mode": {
    "name": "ipython",
    "version": 3
   },
   "file_extension": ".py",
   "mimetype": "text/x-python",
   "name": "python",
   "nbconvert_exporter": "python",
   "pygments_lexer": "ipython3",
   "version": "3.8.5"
  }
 },
 "nbformat": 4,
 "nbformat_minor": 4
}
